{
 "cells": [
  {
   "cell_type": "code",
   "execution_count": 6,
   "id": "0bba9736",
   "metadata": {},
   "outputs": [],
   "source": [
    "products = [\"t-shirt\", \"mug\", \"hat\", \"book\", \"keychain\"] # list of products\n",
    "key = 0 # variable to cycle through dictionary keys"
   ]
  },
  {
   "cell_type": "code",
   "execution_count": 7,
   "id": "99d3a923",
   "metadata": {},
   "outputs": [],
   "source": [
    "inventory = { } # empty inventory dictionary"
   ]
  },
  {
   "cell_type": "code",
   "execution_count": 8,
   "id": "7eed750d",
   "metadata": {},
   "outputs": [
    {
     "name": "stdout",
     "output_type": "stream",
     "text": [
      "Hello please input the inventory number for t-shirt: 10\n",
      "Hello please input the inventory number for mug: 10\n",
      "Hello please input the inventory number for hat: 10\n",
      "Hello please input the inventory number for book: 10\n",
      "Hello please input the inventory number for keychain: 10\n",
      "{'t-shirt': 10, 'mug': 10, 'hat': 10, 'book': 10, 'keychain': 10}\n"
     ]
    }
   ],
   "source": [
    "for loop in products: # asks the user for the inventory count for products\n",
    "    val_1 = input(\"Hello please input the inventory number for \" + products[key] + \": \" )\n",
    "    if val_1.isdigit():\n",
    "        inventory[products[key]] = int(val_1)\n",
    "        key+=1\n",
    "    else:\n",
    "        print(\"Please input a number value for the product, try again\")\n",
    "    \n",
    "print(inventory)"
   ]
  },
  {
   "cell_type": "code",
   "execution_count": 9,
   "id": "290f2c68",
   "metadata": {},
   "outputs": [],
   "source": [
    "customer_orders = set() \n",
    "#type(customer_orders)"
   ]
  },
  {
   "cell_type": "code",
   "execution_count": 10,
   "id": "5a30338d",
   "metadata": {},
   "outputs": [
    {
     "name": "stdout",
     "output_type": "stream",
     "text": [
      "Please input a product you want to order:hat\n",
      "do you want to add another item, yes or noyes\n",
      "Please input a product you want to order:mug\n",
      "do you want to add another item, yes or noyes\n",
      "Please input a product you want to order:book\n",
      "do you want to add another item, yes or noyes\n",
      "Please input a product you want to order:t-shirt\n",
      "do you want to add another item, yes or nono\n",
      "{'t-shirt', 'hat', 'mug', 'book'}\n"
     ]
    }
   ],
   "source": [
    "ans = True\n",
    "\n",
    "while ans:\n",
    "    cus_pro = input(\"Please input a product you want to order:\")\n",
    "    cus_pro.lower()\n",
    "    customer_orders.add(cus_pro)\n",
    "    \n",
    "    response = input(\"do you want to add another item, yes or no\")\n",
    "    response.lower()\n",
    "    \n",
    "    if response == 'no':\n",
    "        ans = False\n",
    "    \n",
    "print(customer_orders)"
   ]
  },
  {
   "cell_type": "code",
   "execution_count": 11,
   "id": "6be5378c",
   "metadata": {},
   "outputs": [],
   "source": [
    "tpo = len(customer_orders)\n",
    "popo = (len(customer_orders)/len(products))*100 \n",
    "\n",
    "order_status = (tpo, popo)"
   ]
  },
  {
   "cell_type": "code",
   "execution_count": 12,
   "id": "973f72b3",
   "metadata": {},
   "outputs": [
    {
     "name": "stdout",
     "output_type": "stream",
     "text": [
      "Order Statistics\n",
      "Total Products Ordered:  4\n",
      "Percentage of Products Ordered: 80.0\n"
     ]
    }
   ],
   "source": [
    "print(\"Order Statistics\")\n",
    "print(\"Total Products Ordered: \", tpo)\n",
    "print(\"Percentage of Products Ordered:\", popo)"
   ]
  },
  {
   "cell_type": "code",
   "execution_count": 13,
   "id": "28ef41bc",
   "metadata": {},
   "outputs": [
    {
     "name": "stdout",
     "output_type": "stream",
     "text": [
      "The inventory for t-shirt is:  9\n",
      "The inventory for mug is:  9\n",
      "The inventory for hat is:  9\n",
      "The inventory for book is:  9\n",
      "The inventory for keychain is:  10\n"
     ]
    }
   ],
   "source": [
    "#print(inventory)\n",
    "key = 0\n",
    "while key <len(customer_orders):\n",
    "        inven = list(customer_orders)[key]\n",
    "        inventory[inven] = int(inventory[inven]) - 1\n",
    "        key+=1\n",
    "key = 0\n",
    "for loop in products:\n",
    "    print(\"The inventory for \" + products[key] + \" is: \", inventory[products[key]])\n",
    "    key+=1\n"
   ]
  }
 ],
 "metadata": {
  "kernelspec": {
   "display_name": "Python 3 (ipykernel)",
   "language": "python",
   "name": "python3"
  },
  "language_info": {
   "codemirror_mode": {
    "name": "ipython",
    "version": 3
   },
   "file_extension": ".py",
   "mimetype": "text/x-python",
   "name": "python",
   "nbconvert_exporter": "python",
   "pygments_lexer": "ipython3",
   "version": "3.11.7"
  }
 },
 "nbformat": 4,
 "nbformat_minor": 5
}
