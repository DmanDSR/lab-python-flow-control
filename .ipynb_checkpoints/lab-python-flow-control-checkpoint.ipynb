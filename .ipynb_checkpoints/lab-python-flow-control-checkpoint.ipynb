{
 "cells": [
  {
   "cell_type": "markdown",
   "id": "d3bfc191-8885-42ee-b0a0-bbab867c6f9f",
   "metadata": {
    "tags": []
   },
   "source": [
    "# Lab | Flow Control"
   ]
  },
  {
   "cell_type": "markdown",
   "id": "3851fcd1-cf98-4653-9c89-e003b7ec9400",
   "metadata": {},
   "source": [
    "## Exercise: Managing Customer Orders Optimized\n",
    "\n",
    "In the last lab, you were starting an online store that sells various products. To ensure smooth operations, you developed a program that manages customer orders and inventory.\n",
    "\n",
    "You did so without using flow control. Let's go a step further and improve this code.\n",
    "\n",
    "Follow the steps below to complete the exercise:\n",
    "\n",
    "1. Look at your code from the lab data structures, and improve repeated code with loops.\n",
    "\n",
    "2. Instead of asking the user to input the name of three products that a customer wants to order, do the following:\n",
    "    \n",
    "    a. Prompt the user to enter the name of a product that a customer wants to order.\n",
    "    \n",
    "    b. Add the product name to the \"customer_orders\" set.\n",
    "    \n",
    "    c. Ask the user if they want to add another product (yes/no).\n",
    "    \n",
    "    d. Continue the loop until the user does not want to add another product.\n",
    "\n",
    "3. Instead of updating the inventory by subtracting 1 from the quantity of each product, only do it for  the products that were ordered (those in \"customer_orders\")."
   ]
  },
  {
   "cell_type": "code",
   "execution_count": 1,
   "id": "eed015bf",
   "metadata": {},
   "outputs": [],
   "source": [
    "products = [\"t-shirt\", \"mug\", \"hat\", \"book\", \"keychain\"] # list of products\n",
    "key = 0 # variable to cycle through dictionary keys"
   ]
  },
  {
   "cell_type": "code",
   "execution_count": 2,
   "id": "8b047124",
   "metadata": {},
   "outputs": [],
   "source": [
    "inventory = { } # empty inventory dictionary"
   ]
  },
  {
   "cell_type": "code",
   "execution_count": 3,
   "id": "6273e748",
   "metadata": {},
   "outputs": [
    {
     "name": "stdout",
     "output_type": "stream",
     "text": [
      "Hello please input the inventory number for t-shirt: 10\n",
      "Hello please input the inventory number for mug: 10\n",
      "Hello please input the inventory number for hat: 10\n",
      "Hello please input the inventory number for book: 10\n",
      "Hello please input the inventory number for keychain: 10\n",
      "{'t-shirt': 10, 'mug': 10, 'hat': 10, 'book': 10, 'keychain': 10}\n"
     ]
    }
   ],
   "source": [
    "for loop in products: # asks the user for the inventory count for products\n",
    "    val_1 = input(\"Hello please input the inventory number for \" + products[key] + \": \" )\n",
    "    if val_1.isdigit():\n",
    "        inventory[products[key]] = int(val_1)\n",
    "        key+=1\n",
    "    else:\n",
    "        print(\"Please input a number value for the product, try again\")\n",
    "    \n",
    "print(inventory)"
   ]
  },
  {
   "cell_type": "code",
   "execution_count": 4,
   "id": "2bfe0262",
   "metadata": {},
   "outputs": [],
   "source": [
    "customer_orders = set() \n",
    "#type(customer_orders)"
   ]
  },
  {
   "cell_type": "code",
   "execution_count": 5,
   "id": "eccbe8de",
   "metadata": {},
   "outputs": [
    {
     "name": "stdout",
     "output_type": "stream",
     "text": [
      "Please input a product you want to order:hat\n",
      "do you want to add another item, yes or noyes\n",
      "Please input a product you want to order:mug\n",
      "do you want to add another item, yes or nono\n",
      "{'mug', 'hat'}\n"
     ]
    }
   ],
   "source": [
    "ans = True\n",
    "\n",
    "while ans:\n",
    "    cus_pro = input(\"Please input a product you want to order:\")\n",
    "    cus_pro.lower()\n",
    "    customer_orders.add(cus_pro)\n",
    "    \n",
    "    response = input(\"do you want to add another item, yes or no\")\n",
    "    response.lower()\n",
    "    \n",
    "    if response == 'no':\n",
    "        ans = False\n",
    "    \n",
    "print(customer_orders)"
   ]
  },
  {
   "cell_type": "code",
   "execution_count": 6,
   "id": "fd49f083",
   "metadata": {},
   "outputs": [],
   "source": [
    "tpo = len(customer_orders)\n",
    "popo = (len(customer_orders)/len(products))*100 \n",
    "\n",
    "order_status = (tpo, popo)"
   ]
  },
  {
   "cell_type": "code",
   "execution_count": 7,
   "id": "91a28fd0",
   "metadata": {},
   "outputs": [
    {
     "name": "stdout",
     "output_type": "stream",
     "text": [
      "Order Statistics\n",
      "Total Products Ordered:  2\n",
      "Percentage of Products Ordered: 40.0\n"
     ]
    }
   ],
   "source": [
    "print(\"Order Statistics\")\n",
    "print(\"Total Products Ordered: \", tpo)\n",
    "print(\"Percentage of Products Ordered:\", popo)"
   ]
  },
  {
   "cell_type": "code",
   "execution_count": 8,
   "id": "31f7e789",
   "metadata": {},
   "outputs": [
    {
     "name": "stdout",
     "output_type": "stream",
     "text": [
      "The inventory for t-shirt is:  10\n",
      "The inventory for mug is:  9\n",
      "The inventory for hat is:  9\n",
      "The inventory for book is:  10\n",
      "The inventory for keychain is:  10\n"
     ]
    }
   ],
   "source": [
    "#print(inventory)\n",
    "key = 0\n",
    "while key <len(customer_orders):\n",
    "        inven = list(customer_orders)[key]\n",
    "        inventory[inven] = int(inventory[inven]) - 1\n",
    "        key+=1\n",
    "key = 0\n",
    "for loop in products:\n",
    "    print(\"The inventory for \" + products[key] + \" is: \", inventory[products[key]])\n",
    "    key+=1\n"
   ]
  }
 ],
 "metadata": {
  "kernelspec": {
   "display_name": "Python 3 (ipykernel)",
   "language": "python",
   "name": "python3"
  },
  "language_info": {
   "codemirror_mode": {
    "name": "ipython",
    "version": 3
   },
   "file_extension": ".py",
   "mimetype": "text/x-python",
   "name": "python",
   "nbconvert_exporter": "python",
   "pygments_lexer": "ipython3",
   "version": "3.11.7"
  }
 },
 "nbformat": 4,
 "nbformat_minor": 5
}
